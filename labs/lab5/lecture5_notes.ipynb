{
 "cells": [
  {
   "cell_type": "code",
   "execution_count": 2,
   "id": "5f3b407b",
   "metadata": {},
   "outputs": [],
   "source": [
    "import pandas as pd\n",
    "import numpy as np\n",
    "import matplotlib.pyplot as plt"
   ]
  },
  {
   "cell_type": "code",
   "execution_count": null,
   "id": "73e17837",
   "metadata": {},
   "outputs": [],
   "source": [
    "df.head() # Calls first 10 rows of dataset\n",
    "df.info() # Check for NaN values and data types\n",
    "df.describe() # Check summary statistics\n",
    "df.hist(bins = x) # Plot histogram of datasets"
   ]
  },
  {
   "cell_type": "code",
   "execution_count": null,
   "id": "5e8225fa",
   "metadata": {},
   "outputs": [],
   "source": [
    "corr_matrix = df.corr() # Compute correlation matrix\n",
    "\n",
    "corr_matrix['median_house_value'].sort_values\n",
    "\n",
    "# Note: correlation coefficients measure linearity"
   ]
  },
  {
   "cell_type": "code",
   "execution_count": null,
   "id": "3b55358b",
   "metadata": {},
   "outputs": [],
   "source": []
  }
 ],
 "metadata": {
  "kernelspec": {
   "display_name": "Python 3 (ipykernel)",
   "language": "python",
   "name": "python3"
  },
  "language_info": {
   "codemirror_mode": {
    "name": "ipython",
    "version": 3
   },
   "file_extension": ".py",
   "mimetype": "text/x-python",
   "name": "python",
   "nbconvert_exporter": "python",
   "pygments_lexer": "ipython3",
   "version": "3.8.12"
  }
 },
 "nbformat": 4,
 "nbformat_minor": 5
}
