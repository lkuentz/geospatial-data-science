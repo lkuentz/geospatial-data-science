{
 "cells": [
  {
   "cell_type": "code",
   "execution_count": 2,
   "id": "c74162fb",
   "metadata": {},
   "outputs": [
    {
     "name": "stdout",
     "output_type": "stream",
     "text": [
      "30\n"
     ]
    }
   ],
   "source": [
    "import numpy as np\n",
    "a = 6\n",
    "b = 5\n",
    "c = np.multiply(a, b)\n",
    "print(c)"
   ]
  },
  {
   "cell_type": "markdown",
   "id": "71a619e7",
   "metadata": {},
   "source": [
    "[![Greenland Ice Sheet](gl_icesheet.jpg \"Flightseeing with Air Zafari near Iluliartoq in Kangerlussuaq in Greenland\")](https://visitgreenland.com/about-greenland/ice-sheet/)\n",
    "This is the **Greenland** <em>ice sheet</em>. See more here: https://visitgreenland.com/about-greenland/ice-sheet/"
   ]
  },
  {
   "cell_type": "code",
   "execution_count": null,
   "id": "aa3f7496",
   "metadata": {},
   "outputs": [],
   "source": []
  }
 ],
 "metadata": {
  "kernelspec": {
   "display_name": "Python 3",
   "language": "python",
   "name": "python3"
  },
  "language_info": {
   "codemirror_mode": {
    "name": "ipython",
    "version": 3
   },
   "file_extension": ".py",
   "mimetype": "text/x-python",
   "name": "python",
   "nbconvert_exporter": "python",
   "pygments_lexer": "ipython3",
   "version": "3.8.8"
  }
 },
 "nbformat": 4,
 "nbformat_minor": 5
}
